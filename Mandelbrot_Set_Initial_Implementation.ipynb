{
  "nbformat": 4,
  "nbformat_minor": 0,
  "metadata": {
    "colab": {
      "name": "Mandelbrot_Set_Initial_Implementation.ipynb",
      "provenance": [],
      "collapsed_sections": []
    },
    "kernelspec": {
      "name": "python3",
      "display_name": "Python 3"
    },
    "language_info": {
      "name": "python"
    }
  },
  "cells": [
    {
      "cell_type": "code",
      "source": [
        "import numpy as np\n",
        "import matplotlib.pyplot as plt\n",
        "\n",
        "np.warnings.filterwarnings(\"ignore\")\n",
        "\n",
        "# https://realpython.com/mandelbrot-set-python/"
      ],
      "metadata": {
        "id": "xcQeyMgG-_rY"
      },
      "execution_count": 9,
      "outputs": []
    },
    {
      "cell_type": "code",
      "source": [
        ""
      ],
      "metadata": {
        "id": "--G6T5eZ-_o1"
      },
      "execution_count": null,
      "outputs": []
    },
    {
      "cell_type": "code",
      "source": [
        "# create function for mandelbrot formula\n",
        "\n",
        "# 1. recursive approach\n",
        "def z(n, c):\n",
        "  \"\"\"\n",
        "  returns the nth element of the sequence\n",
        "  \"\"\"\n",
        "\n",
        "  if n == 0:\n",
        "    return 0\n",
        "  else:\n",
        "    return z(n - 1, c) ** 2 + c"
      ],
      "metadata": {
        "id": "vhsvH0ml-_k3"
      },
      "execution_count": 2,
      "outputs": []
    },
    {
      "cell_type": "code",
      "source": [
        "# try function with first 10 elements for c = 1\n",
        "for n in range(10):\n",
        "  print(f'z({n})  = {z(n, c = 1)}')\n"
      ],
      "metadata": {
        "colab": {
          "base_uri": "https://localhost:8080/"
        },
        "id": "lAruqI2s-_cK",
        "outputId": "20422611-aab5-424c-f01d-314d606be3a7"
      },
      "execution_count": 3,
      "outputs": [
        {
          "output_type": "stream",
          "name": "stdout",
          "text": [
            "z(0)  = 0\n",
            "z(1)  = 1\n",
            "z(2)  = 2\n",
            "z(3)  = 5\n",
            "z(4)  = 26\n",
            "z(5)  = 677\n",
            "z(6)  = 458330\n",
            "z(7)  = 210066388901\n",
            "z(8)  = 44127887745906175987802\n",
            "z(9)  = 1947270476915296449559703445493848930452791205\n"
          ]
        }
      ]
    },
    {
      "cell_type": "code",
      "execution_count": 4,
      "metadata": {
        "id": "QXO1Udy9-sFn"
      },
      "outputs": [],
      "source": [
        "# 2. iterative approach\n",
        "\n",
        "def sequence(c):\n",
        "  \"\"\"\n",
        "  returns a generator object\n",
        "  \"\"\"\n",
        "\n",
        "  z = 0\n",
        "  while True:\n",
        "    yield z\n",
        "    z = z ** 2 + c"
      ]
    },
    {
      "cell_type": "code",
      "source": [
        "# enumerate function and stop the loop after given number of iterations\n",
        "for n, z in enumerate(sequence(c = 1)):\n",
        "  print(f'z({n}) = {z}')\n",
        "  if n >= 9:\n",
        "    break"
      ],
      "metadata": {
        "colab": {
          "base_uri": "https://localhost:8080/"
        },
        "id": "_uCbPWo2A4OC",
        "outputId": "61ffa878-5384-49c7-8e6b-09816a03437c"
      },
      "execution_count": 5,
      "outputs": [
        {
          "output_type": "stream",
          "name": "stdout",
          "text": [
            "z(0) = 0\n",
            "z(1) = 1\n",
            "z(2) = 2\n",
            "z(3) = 5\n",
            "z(4) = 26\n",
            "z(5) = 677\n",
            "z(6) = 458330\n",
            "z(7) = 210066388901\n",
            "z(8) = 44127887745906175987802\n",
            "z(9) = 1947270476915296449559703445493848930452791205\n"
          ]
        }
      ]
    },
    {
      "cell_type": "markdown",
      "source": [
        "The results are the same but the generator function calculates the seuqnece of elements more efficiently by using \"lazy evaluation.\""
      ],
      "metadata": {
        "id": "xie1ZSwgBPWR"
      }
    },
    {
      "cell_type": "markdown",
      "source": [
        "### Visualize the Mandelbrot Set using Matplotlib"
      ],
      "metadata": {
        "id": "KJsNMmF3BmBd"
      }
    },
    {
      "cell_type": "code",
      "source": [
        "# generates initial set of candidate values, which\n",
        "# creates evenly spaced numbers in a given range\n",
        "\n",
        "def complex_matrix(xmin, xmax, ymin, ymax, pixel_density):\n",
        "  \"\"\"\n",
        "  xmin, xmax: specify bounds in horizontal direction\n",
        "  ymin, ymax: specify bounds in vertical direction\n",
        "  pixel_density: determines desired number of pixels per unit\n",
        "\n",
        "  Returns: 2d array of complex numbers\n",
        "  \"\"\"\n",
        "\n",
        "  re = np.linspace(xmin, xmax, int((xmax - xmin) * pixel_density))\n",
        "  im = np.linspace(ymin, ymax, int((ymax - ymin) * pixel_density))\n",
        "  return re[np.newaxis, :] + im[:, np.newaxis] * 1j"
      ],
      "metadata": {
        "id": "LYlTA87LBOqg"
      },
      "execution_count": 8,
      "outputs": []
    },
    {
      "cell_type": "code",
      "source": [
        "# run the initial set of candidates through the well-known recursive formula\n",
        "\n",
        "def is_stable(c, num_iterations):\n",
        "  z = 0\n",
        "  for _ in range(num_iterations):\n",
        "    z = z ** 2 + c\n",
        "  return abs(z) <= 2"
      ],
      "metadata": {
        "id": "A7HQjF_aBLjR"
      },
      "execution_count": 15,
      "outputs": []
    },
    {
      "cell_type": "code",
      "source": [
        "# visualize through a scatter plot\n",
        "\n",
        "# since complez numbers are pairs of real and imaginary complents,\n",
        "# we have to untangle them into separate arrays that'll play nicely \n",
        "# with the scatter plot\n",
        "\n",
        "def get_members(c, num_iterations):\n",
        "  \"\"\"\n",
        "  Returns: 1d array of only complex numbesr that are stable and belong to mandelbrot set\n",
        "  \"\"\"\n",
        "  mask = is_stable(c, num_iterations)\n",
        "  return c[mask]"
      ],
      "metadata": {
        "id": "003AMWPdCwkR"
      },
      "execution_count": 16,
      "outputs": []
    },
    {
      "cell_type": "code",
      "source": [
        "# calculate data and plot it\n",
        "c = complex_matrix(-2, 0.5, -1.5, 1.5, pixel_density=21)\n",
        "members = get_members(c, num_iterations = 100)\n",
        "\n",
        "plt.scatter(members.real, members.imag, color = \"black\", marker = \",\", s = 1)\n",
        "plt.gca().set_aspect(\"equal\")\n",
        "plt.axis(\"off\")\n",
        "plt.tight_layout()\n",
        "plt.show()"
      ],
      "metadata": {
        "colab": {
          "base_uri": "https://localhost:8080/",
          "height": 297
        },
        "id": "SSEoVy6jDFtJ",
        "outputId": "b0562e3f-8885-4103-ae21-3c00121afc4a"
      },
      "execution_count": 18,
      "outputs": [
        {
          "output_type": "display_data",
          "data": {
            "text/plain": [
              "<Figure size 432x288 with 1 Axes>"
            ],
            "image/png": "[encoded data removed]"
          },
          "metadata": {
            "needs_background": "light"
          }
        }
      ]
    },
    {
      "cell_type": "code",
      "source": [
        "# calculate data and plot it\n",
        "c = complex_matrix(-2, 0.5, -1.5, 1.5, pixel_density=1000)\n",
        "members = get_members(c, num_iterations = 1000)\n",
        "\n",
        "plt.scatter(members.real, members.imag, color = \"black\", marker = \",\", s = 1)\n",
        "plt.gca().set_aspect(\"equal\")\n",
        "plt.axis(\"off\")\n",
        "plt.tight_layout()\n",
        "plt.show()"
      ],
      "metadata": {
        "colab": {
          "base_uri": "https://localhost:8080/",
          "height": 297
        },
        "id": "4ESPFN0hDtqD",
        "outputId": "5d53d656-fa24-4533-fb21-9ea5e27398b0"
      },
      "execution_count": 22,
      "outputs": [
        {
          "output_type": "display_data",
          "data": {
            "text/plain": [
              "<Figure size 432x288 with 1 Axes>"
            ],
            "image/png": "[encoded data removed]"
          },
          "metadata": {
            "needs_background": "light"
          }
        }
      ]
    },
    {
      "cell_type": "code",
      "source": [
        "# can draw with pillow too, which will give more \n",
        "# granular control over the visualization process\n",
        "# that will let depict mandelbrot set in more interesting ways"
      ],
      "metadata": {
        "id": "UFmZt1pAD6Kf"
      },
      "execution_count": null,
      "outputs": []
    }
  ]
}